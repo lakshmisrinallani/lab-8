{
  "nbformat": 4,
  "nbformat_minor": 0,
  "metadata": {
    "colab": {
      "provenance": []
    },
    "kernelspec": {
      "name": "python3",
      "display_name": "Python 3"
    },
    "language_info": {
      "name": "python"
    }
  },
  "cells": [
    {
      "cell_type": "code",
      "execution_count": 5,
      "metadata": {
        "id": "1Hb-EZeW70Jb",
        "colab": {
          "base_uri": "https://localhost:8080/"
        },
        "outputId": "77ccbefc-c330-4225-a0e9-8c2a791609cc"
      },
      "outputs": [
        {
          "output_type": "stream",
          "name": "stdout",
          "text": [
            "     Alcohol  Malic_Acid   Ash  Ash_Alcanity  Magnesium  Total_Phenols  \\\n",
            "0      14.23        1.71  2.43          15.6        127           2.80   \n",
            "1      13.20        1.78  2.14          11.2        100           2.65   \n",
            "2      13.16        2.36  2.67          18.6        101           2.80   \n",
            "3      14.37        1.95  2.50          16.8        113           3.85   \n",
            "4      13.24        2.59  2.87          21.0        118           2.80   \n",
            "..       ...         ...   ...           ...        ...            ...   \n",
            "173    13.71        5.65  2.45          20.5         95           1.68   \n",
            "174    13.40        3.91  2.48          23.0        102           1.80   \n",
            "175    13.27        4.28  2.26          20.0        120           1.59   \n",
            "176    13.17        2.59  2.37          20.0        120           1.65   \n",
            "177    14.13        4.10  2.74          24.5         96           2.05   \n",
            "\n",
            "     Flavanoids  Nonflavanoid_Phenols  Proanthocyanins  Color_Intensity   Hue  \\\n",
            "0          3.06                  0.28             2.29             5.64  1.04   \n",
            "1          2.76                  0.26             1.28             4.38  1.05   \n",
            "2          3.24                  0.30             2.81             5.68  1.03   \n",
            "3          3.49                  0.24             2.18             7.80  0.86   \n",
            "4          2.69                  0.39             1.82             4.32  1.04   \n",
            "..          ...                   ...              ...              ...   ...   \n",
            "173        0.61                  0.52             1.06             7.70  0.64   \n",
            "174        0.75                  0.43             1.41             7.30  0.70   \n",
            "175        0.69                  0.43             1.35            10.20  0.59   \n",
            "176        0.68                  0.53             1.46             9.30  0.60   \n",
            "177        0.76                  0.56             1.35             9.20  0.61   \n",
            "\n",
            "     OD280  Proline  Customer_Segment  \n",
            "0     3.92     1065                 1  \n",
            "1     3.40     1050                 1  \n",
            "2     3.17     1185                 1  \n",
            "3     3.45     1480                 1  \n",
            "4     2.93      735                 1  \n",
            "..     ...      ...               ...  \n",
            "173   1.74      740                 3  \n",
            "174   1.56      750                 3  \n",
            "175   1.56      835                 3  \n",
            "176   1.62      840                 3  \n",
            "177   1.60      560                 3  \n",
            "\n",
            "[178 rows x 14 columns]\n"
          ]
        }
      ],
      "source": [
        "import pandas as pd\n",
        "\n",
        "# Read the data\n",
        "data = pd.read_csv('/content/Wine.csv')\n",
        "print(data) # Assuming the data is in a CSV file named 'wine_data.csv'\n",
        "\n",
        "# Split the data into features and target variable\n",
        "X = data.drop('Customer_Segment', axis=1)  # Features (all columns except 'Customer_Segment')\n",
        "y = data['Customer_Segment']  # Target variable ('Customer_Segment' column)\n"
      ]
    },
    {
      "cell_type": "code",
      "source": [
        "from sklearn.decomposition import PCA\n",
        "\n",
        "# Create a PCA object with the desired number of components\n",
        "n_components = 2  # You can choose the number of components you want\n",
        "pca = PCA(n_components=n_components)\n",
        "\n",
        "# Fit and transform the feature matrix\n",
        "X_pca = pca.fit_transform(X)\n"
      ],
      "metadata": {
        "id": "90Mom5cN-Sxz"
      },
      "execution_count": 3,
      "outputs": []
    },
    {
      "cell_type": "code",
      "source": [
        "from sklearn.model_selection import train_test_split\n",
        "from sklearn.svm import SVC\n",
        "from sklearn.metrics import accuracy_score\n",
        "\n",
        "# Split the data into training and testing sets\n",
        "X_train, X_test, y_train, y_test = train_test_split(X, y, test_size=0.2, random_state=42)\n",
        "\n",
        "# Create an SVM classifier\n",
        "svm_classifier = SVC()\n",
        "\n",
        "# Fit the SVM classifier to the data\n",
        "svm_classifier.fit(X_train, y_train)\n",
        "\n",
        "# Make predictions on the test set\n",
        "y_pred = svm_classifier.predict(X_test)\n",
        "\n",
        "# Calculate accuracy\n",
        "accuracy_before_pca = accuracy_score(y_test, y_pred)\n",
        "\n",
        "print(f'Accuracy before PCA: {accuracy_before_pca:.2f}')\n"
      ],
      "metadata": {
        "colab": {
          "base_uri": "https://localhost:8080/"
        },
        "id": "Cy4lEsKU-W1r",
        "outputId": "c491ed60-fa63-4a8b-c855-54d446e5a3ce"
      },
      "execution_count": 4,
      "outputs": [
        {
          "output_type": "stream",
          "name": "stdout",
          "text": [
            "Accuracy before PCA: 0.81\n"
          ]
        }
      ]
    },
    {
      "cell_type": "code",
      "source": [
        "# Split the PCA-transformed data into training and testing sets\n",
        "X_train_pca, X_test_pca, y_train, y_test = train_test_split(X_pca, y, test_size=0.2, random_state=42)\n",
        "\n",
        "# Create an SVM classifier\n",
        "svm_classifier_pca = SVC()\n",
        "\n",
        "# Fit the SVM classifier to the PCA-transformed data\n",
        "svm_classifier_pca.fit(X_train_pca, y_train)\n",
        "\n",
        "# Make predictions on the test set using PCA-transformed data\n",
        "y_pred_pca = svm_classifier_pca.predict(X_test_pca)\n",
        "\n",
        "# Calculate accuracy\n",
        "accuracy_after_pca = accuracy_score(y_test, y_pred_pca)\n",
        "\n",
        "print(f'Accuracy after PCA: {accuracy_after_pca:.2f}')\n"
      ],
      "metadata": {
        "colab": {
          "base_uri": "https://localhost:8080/"
        },
        "id": "NHMh1IW5-bs2",
        "outputId": "5100fba2-9e3a-4c98-fe31-43512913c65c"
      },
      "execution_count": 6,
      "outputs": [
        {
          "output_type": "stream",
          "name": "stdout",
          "text": [
            "Accuracy after PCA: 0.78\n"
          ]
        }
      ]
    },
    {
      "cell_type": "code",
      "source": [
        "import pandas as pd\n",
        "\n",
        "# Read the data\n",
        "data= pd.read_csv('/content/breast_cancer_survival (2).csv')\n",
        "print(data) # Assuming the data is in a CSV file named 'wine_data.csv'\n",
        "\n",
        "\n",
        "# Split the data into features and target variable\n",
        "R= data.drop('Patient_Status', axis=1)  # Features (all columns except 'Customer_Segment')\n",
        "G = data['Patient_Status']  # Target variable ('Customer_Segment' column)\n",
        "\n"
      ],
      "metadata": {
        "colab": {
          "base_uri": "https://localhost:8080/"
        },
        "id": "yZjv_ssJKqPP",
        "outputId": "86bc4c70-e45f-4897-83b0-2c0b84a1812f"
      },
      "execution_count": 10,
      "outputs": [
        {
          "output_type": "stream",
          "name": "stdout",
          "text": [
            "     Age  Gender  Protein1  Protein2  Protein3  Protein4 Tumour_Stage  \\\n",
            "0     42  FEMALE  0.952560   2.15000  0.007972 -0.048340           II   \n",
            "1     54  FEMALE  0.000000   1.38020 -0.498030 -0.507320           II   \n",
            "2     63  FEMALE -0.523030   1.76400 -0.370190  0.010815           II   \n",
            "3     78  FEMALE -0.876180   0.12943 -0.370380  0.132190            I   \n",
            "4     42  FEMALE  0.226110   1.74910 -0.543970 -0.390210           II   \n",
            "..   ...     ...       ...       ...       ...       ...          ...   \n",
            "329   59  FEMALE  0.024598   1.40050  0.024751  0.280320           II   \n",
            "330   41  FEMALE  0.100120  -0.46547  0.472370 -0.523870            I   \n",
            "331   54  FEMALE  0.753820   1.64250 -0.332850  0.857860           II   \n",
            "332   74  FEMALE  0.972510   1.42680 -0.366570 -0.107820           II   \n",
            "333   66  FEMALE  0.286380   1.39980  0.318830  0.836050           II   \n",
            "\n",
            "                          Histology ER status PR status HER2 status  \\\n",
            "0     Infiltrating Ductal Carcinoma  Positive  Positive    Negative   \n",
            "1     Infiltrating Ductal Carcinoma  Positive  Positive    Negative   \n",
            "2     Infiltrating Ductal Carcinoma  Positive  Positive    Negative   \n",
            "3     Infiltrating Ductal Carcinoma  Positive  Positive    Negative   \n",
            "4     Infiltrating Ductal Carcinoma  Positive  Positive    Positive   \n",
            "..                              ...       ...       ...         ...   \n",
            "329   Infiltrating Ductal Carcinoma  Positive  Positive    Positive   \n",
            "330   Infiltrating Ductal Carcinoma  Positive  Positive    Positive   \n",
            "331   Infiltrating Ductal Carcinoma  Positive  Positive    Negative   \n",
            "332  Infiltrating Lobular Carcinoma  Positive  Positive    Negative   \n",
            "333   Infiltrating Ductal Carcinoma  Positive  Positive    Negative   \n",
            "\n",
            "                    Surgery_type Date_of_Surgery Date_of_Last_Visit  \\\n",
            "0                          Other       20-May-18          26-Aug-18   \n",
            "1                          Other       26-Apr-18          25-Jan-19   \n",
            "2                     Lumpectomy       24-Aug-18          08-Apr-20   \n",
            "3                          Other       16-Nov-18          28-Jul-20   \n",
            "4                     Lumpectomy       12-Dec-18          05-Jan-19   \n",
            "..                           ...             ...                ...   \n",
            "329                   Lumpectomy       15-Jan-19          27-Mar-20   \n",
            "330  Modified Radical Mastectomy       25-Jul-18          23-Apr-19   \n",
            "331            Simple Mastectomy       26-Mar-19          11-Oct-19   \n",
            "332                   Lumpectomy       26-Nov-18          05-Dec-18   \n",
            "333  Modified Radical Mastectomy       04-Feb-19          10-Aug-19   \n",
            "\n",
            "    Patient_Status  \n",
            "0            Alive  \n",
            "1             Dead  \n",
            "2            Alive  \n",
            "3            Alive  \n",
            "4            Alive  \n",
            "..             ...  \n",
            "329          Alive  \n",
            "330          Alive  \n",
            "331           Dead  \n",
            "332          Alive  \n",
            "333           Dead  \n",
            "\n",
            "[334 rows x 15 columns]\n"
          ]
        }
      ]
    },
    {
      "cell_type": "code",
      "source": [
        "data['Patient_Status'] = data['Patient_Status'].map({'Alive': 1, 'Dead': 0})\n",
        "data['HER2 status'] = data['HER2 status'].map({'Positive': 1, 'Negative': 0})\n",
        "data = data.fillna(data.mean())\n",
        "columns_to_drop = ['Surgery_type', 'Date_of_Surgery', 'Date_of_Last_Visit', 'Histology', 'Tumour_Stage', 'Gender','ER status','PR status']\n",
        "data = data.drop(columns=columns_to_drop)\n",
        "print(data)"
      ],
      "metadata": {
        "colab": {
          "base_uri": "https://localhost:8080/"
        },
        "id": "QAGccXqBLTHw",
        "outputId": "15c1d6de-9c8d-40e9-8bec-479f06fb0372"
      },
      "execution_count": 11,
      "outputs": [
        {
          "output_type": "stream",
          "name": "stdout",
          "text": [
            "     Age  Protein1  Protein2  Protein3  Protein4  HER2 status  Patient_Status\n",
            "0     42  0.952560   2.15000  0.007972 -0.048340            0             1.0\n",
            "1     54  0.000000   1.38020 -0.498030 -0.507320            0             0.0\n",
            "2     63 -0.523030   1.76400 -0.370190  0.010815            0             1.0\n",
            "3     78 -0.876180   0.12943 -0.370380  0.132190            0             1.0\n",
            "4     42  0.226110   1.74910 -0.543970 -0.390210            1             1.0\n",
            "..   ...       ...       ...       ...       ...          ...             ...\n",
            "329   59  0.024598   1.40050  0.024751  0.280320            1             1.0\n",
            "330   41  0.100120  -0.46547  0.472370 -0.523870            1             1.0\n",
            "331   54  0.753820   1.64250 -0.332850  0.857860            0             0.0\n",
            "332   74  0.972510   1.42680 -0.366570 -0.107820            0             1.0\n",
            "333   66  0.286380   1.39980  0.318830  0.836050            0             0.0\n",
            "\n",
            "[334 rows x 7 columns]\n"
          ]
        },
        {
          "output_type": "stream",
          "name": "stderr",
          "text": [
            "<ipython-input-11-057f8ac67435>:3: FutureWarning: The default value of numeric_only in DataFrame.mean is deprecated. In a future version, it will default to False. In addition, specifying 'numeric_only=None' is deprecated. Select only valid columns or specify the value of numeric_only to silence this warning.\n",
            "  data = data.fillna(data.mean())\n"
          ]
        }
      ]
    },
    {
      "cell_type": "code",
      "source": [],
      "metadata": {
        "id": "qxoHoJkjMnjg"
      },
      "execution_count": null,
      "outputs": []
    },
    {
      "cell_type": "code",
      "source": [
        "if data['Patient_Status'].isnull().sum() > 0:\n",
        "        raise ValueError(\"NaNs found in the target variable.\")\n",
        "features = data.drop(\"Patient_Status\", axis=1)\n",
        "target = data[\"Patient_Status\"].astype(int)\n",
        "from sklearn.preprocessing import MinMaxScaler\n",
        "scaler = MinMaxScaler()\n",
        "x_scaled = scaler.fit_transform(features)\n",
        "print(features)\n",
        "print(target)"
      ],
      "metadata": {
        "colab": {
          "base_uri": "https://localhost:8080/"
        },
        "id": "6tf_O4GaM4Bd",
        "outputId": "961f32be-dff3-46de-edae-088ac752ffc4"
      },
      "execution_count": 15,
      "outputs": [
        {
          "output_type": "stream",
          "name": "stdout",
          "text": [
            "     Age  Protein1  Protein2  Protein3  Protein4  HER2 status\n",
            "0     42  0.952560   2.15000  0.007972 -0.048340            0\n",
            "1     54  0.000000   1.38020 -0.498030 -0.507320            0\n",
            "2     63 -0.523030   1.76400 -0.370190  0.010815            0\n",
            "3     78 -0.876180   0.12943 -0.370380  0.132190            0\n",
            "4     42  0.226110   1.74910 -0.543970 -0.390210            1\n",
            "..   ...       ...       ...       ...       ...          ...\n",
            "329   59  0.024598   1.40050  0.024751  0.280320            1\n",
            "330   41  0.100120  -0.46547  0.472370 -0.523870            1\n",
            "331   54  0.753820   1.64250 -0.332850  0.857860            0\n",
            "332   74  0.972510   1.42680 -0.366570 -0.107820            0\n",
            "333   66  0.286380   1.39980  0.318830  0.836050            0\n",
            "\n",
            "[334 rows x 6 columns]\n",
            "0      1\n",
            "1      0\n",
            "2      1\n",
            "3      1\n",
            "4      1\n",
            "      ..\n",
            "329    1\n",
            "330    1\n",
            "331    0\n",
            "332    1\n",
            "333    0\n",
            "Name: Patient_Status, Length: 334, dtype: int64\n"
          ]
        }
      ]
    },
    {
      "cell_type": "code",
      "source": [
        "import pandas as pd\n",
        "from sklearn.model_selection import train_test_split\n",
        "from sklearn.linear_model import LogisticRegression\n",
        "from sklearn.metrics import accuracy_score\n",
        "X_train, X_test, y_train, y_test = train_test_split(x_scaled, target, test_size=0.2, random_state=42)\n",
        "model = LogisticRegression(solver='liblinear')\n",
        "model.fit(X_train, y_train)\n",
        "y_pred = model.predict(X_test)\n",
        "accuracy = accuracy_score(y_test, y_pred)\n",
        "print(f\"Accuracy: {accuracy * 100:.2f}%\")"
      ],
      "metadata": {
        "colab": {
          "base_uri": "https://localhost:8080/"
        },
        "id": "oxNj5TDkMSN1",
        "outputId": "48cf32b8-433a-4c9e-bc95-62b722cada9e"
      },
      "execution_count": 16,
      "outputs": [
        {
          "output_type": "stream",
          "name": "stdout",
          "text": [
            "Accuracy: 77.61%\n"
          ]
        }
      ]
    },
    {
      "cell_type": "code",
      "source": [
        "from sklearn.model_selection import train_test_split\n",
        "from sklearn.svm import SVC\n",
        "from sklearn.metrics import accuracy_score\n",
        "X_train, X_test, y_train, y_test = train_test_split(x_scaled, target, test_size=0.2, random_state=42)\n",
        "model.fit(X_train, y_train)\n",
        "svm_classifier = SVC(kernel='linear', random_state=2)\n",
        "svm_classifier.fit(X_train, y_train)\n",
        "y_pred = svm_classifier.predict(X_test)\n",
        "accuracy = accuracy_score(y_test, y_pred)\n",
        "print(f'Accuracy: {accuracy:.2f}')"
      ],
      "metadata": {
        "colab": {
          "base_uri": "https://localhost:8080/"
        },
        "id": "TIrY5x23MhLk",
        "outputId": "2fe34a58-7a88-4107-c3d0-bac865200cd4"
      },
      "execution_count": 17,
      "outputs": [
        {
          "output_type": "stream",
          "name": "stdout",
          "text": [
            "Accuracy: 0.78\n"
          ]
        }
      ]
    },
    {
      "cell_type": "code",
      "source": [
        "import numpy as np\n",
        "\n",
        "# Define the number of bootstrap samples\n",
        "num_bootstrap_samples = 100\n",
        "\n",
        "# Initialize an array to store the uncertainties for each sample\n",
        "uncertainties = []\n",
        "\n",
        "# Perform bootstrapping\n",
        "for i in range(50):  # Iterate through samples 1-50\n",
        "    bootstrap_predictions = []\n",
        "\n",
        "    # Generate bootstrap samples and obtain predictions\n",
        "    for _ in range(num_bootstrap_samples):\n",
        "        # Resample with replacement from the test set for the i-th sample\n",
        "        bootstrap_indices = np.random.choice(len(X_test), size=len(X_test), replace=True)\n",
        "        bootstrap_X_test = X_test[bootstrap_indices]\n",
        "\n",
        "        # Predict for the bootstrap sample\n",
        "        bootstrap_y_pred = svm_classifier.predict(bootstrap_X_test)\n",
        "\n",
        "        # Store the prediction for the i-th sample\n",
        "        bootstrap_predictions.append(bootstrap_y_pred[i])\n",
        "\n",
        "    # Calculate uncertainty for the i-th sample as the standard deviation of predictions\n",
        "    uncertainty_i = np.std(bootstrap_predictions)\n",
        "    uncertainties.append(uncertainty_i)\n",
        "\n",
        "# Print the uncertainties for samples 1-50\n",
        "print(\"Uncertainty for samples 1-50:\")\n",
        "print(uncertainties)"
      ],
      "metadata": {
        "colab": {
          "base_uri": "https://localhost:8080/"
        },
        "id": "YK5tTVXoMuyF",
        "outputId": "02250395-1dff-44ff-dddc-7cfe2d2adb25"
      },
      "execution_count": 18,
      "outputs": [
        {
          "output_type": "stream",
          "name": "stdout",
          "text": [
            "Uncertainty for samples 1-50:\n",
            "[0.0, 0.0, 0.0, 0.0, 0.0, 0.0, 0.0, 0.0, 0.0, 0.0, 0.0, 0.0, 0.0, 0.0, 0.0, 0.0, 0.0, 0.0, 0.0, 0.0, 0.0, 0.0, 0.0, 0.0, 0.0, 0.0, 0.0, 0.0, 0.0, 0.0, 0.0, 0.0, 0.0, 0.0, 0.0, 0.0, 0.0, 0.0, 0.0, 0.0, 0.0, 0.0, 0.0, 0.0, 0.0, 0.0, 0.0, 0.0, 0.0, 0.0]\n"
          ]
        }
      ]
    }
  ]
}