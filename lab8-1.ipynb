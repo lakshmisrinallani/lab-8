{
  "nbformat": 4,
  "nbformat_minor": 0,
  "metadata": {
    "colab": {
      "provenance": []
    },
    "kernelspec": {
      "name": "python3",
      "display_name": "Python 3"
    },
    "language_info": {
      "name": "python"
    }
  },
  "cells": [
    {
      "cell_type": "code",
      "execution_count": 1,
      "metadata": {
        "id": "1Hb-EZeW70Jb"
      },
      "outputs": [],
      "source": [
        "import pandas as pd\n",
        "\n",
        "# Read the data\n",
        "data = pd.read_csv('/content/Wine.csv')  # Assuming the data is in a CSV file named 'wine_data.csv'\n",
        "\n",
        "# Split the data into features and target variable\n",
        "X = data.drop('Customer_Segment', axis=1)  # Features (all columns except 'Customer_Segment')\n",
        "y = data['Customer_Segment']  # Target variable ('Customer_Segment' column)\n"
      ]
    },
    {
      "cell_type": "code",
      "source": [
        "from sklearn.decomposition import PCA\n",
        "\n",
        "# Create a PCA object with the desired number of components\n",
        "n_components = 2  # You can choose the number of components you want\n",
        "pca = PCA(n_components=n_components)\n",
        "\n",
        "# Fit and transform the feature matrix\n",
        "X_pca = pca.fit_transform(X)\n"
      ],
      "metadata": {
        "id": "90Mom5cN-Sxz"
      },
      "execution_count": 2,
      "outputs": []
    },
    {
      "cell_type": "code",
      "source": [
        "from sklearn.model_selection import train_test_split\n",
        "from sklearn.svm import SVC\n",
        "from sklearn.metrics import accuracy_score\n",
        "\n",
        "# Split the data into training and testing sets\n",
        "X_train, X_test, y_train, y_test = train_test_split(X, y, test_size=0.2, random_state=42)\n",
        "\n",
        "# Create an SVM classifier\n",
        "svm_classifier = SVC()\n",
        "\n",
        "# Fit the SVM classifier to the data\n",
        "svm_classifier.fit(X_train, y_train)\n",
        "\n",
        "# Make predictions on the test set\n",
        "y_pred = svm_classifier.predict(X_test)\n",
        "\n",
        "# Calculate accuracy\n",
        "accuracy_before_pca = accuracy_score(y_test, y_pred)\n",
        "\n",
        "print(f'Accuracy before PCA: {accuracy_before_pca:.2f}')\n"
      ],
      "metadata": {
        "colab": {
          "base_uri": "https://localhost:8080/"
        },
        "id": "Cy4lEsKU-W1r",
        "outputId": "d1c88d29-47ff-4f39-ffe2-ae016fd0472c"
      },
      "execution_count": 3,
      "outputs": [
        {
          "output_type": "stream",
          "name": "stdout",
          "text": [
            "Accuracy before PCA: 0.81\n"
          ]
        }
      ]
    },
    {
      "cell_type": "code",
      "source": [
        "# Split the PCA-transformed data into training and testing sets\n",
        "X_train_pca, X_test_pca, y_train, y_test = train_test_split(X_pca, y, test_size=0.2, random_state=42)\n",
        "\n",
        "# Create an SVM classifier\n",
        "svm_classifier_pca = SVC()\n",
        "\n",
        "# Fit the SVM classifier to the PCA-transformed data\n",
        "svm_classifier_pca.fit(X_train_pca, y_train)\n",
        "\n",
        "# Make predictions on the test set using PCA-transformed data\n",
        "y_pred_pca = svm_classifier_pca.predict(X_test_pca)\n",
        "\n",
        "# Calculate accuracy\n",
        "accuracy_after_pca = accuracy_score(y_test, y_pred_pca)\n",
        "\n",
        "print(f'Accuracy after PCA: {accuracy_after_pca:.2f}')\n"
      ],
      "metadata": {
        "colab": {
          "base_uri": "https://localhost:8080/"
        },
        "id": "NHMh1IW5-bs2",
        "outputId": "64595b25-966a-4058-d2f2-b696caab61ef"
      },
      "execution_count": 4,
      "outputs": [
        {
          "output_type": "stream",
          "name": "stdout",
          "text": [
            "Accuracy after PCA: 0.78\n"
          ]
        }
      ]
    }
  ]
}